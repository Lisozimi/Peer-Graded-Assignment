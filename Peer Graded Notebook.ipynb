{
  "metadata": {
    "language_info": {
      "codemirror_mode": {
        "name": "python",
        "version": 3
      },
      "file_extension": ".py",
      "mimetype": "text/x-python",
      "name": "python",
      "nbconvert_exporter": "python",
      "pygments_lexer": "ipython3",
      "version": "3.8"
    },
    "kernelspec": {
      "name": "python",
      "display_name": "Pyolite",
      "language": "python"
    }
  },
  "nbformat_minor": 4,
  "nbformat": 4,
  "cells": [
    {
      "cell_type": "markdown",
      "source": "# My Jupyter Notebook on IBM Watson Studio",
      "metadata": {
        "tags": []
      }
    },
    {
      "cell_type": "markdown",
      "source": "__Lisa Mancini__\n\nAn aspiring Data Scientist dressed as biotechnologist ",
      "metadata": {}
    },
    {
      "cell_type": "markdown",
      "source": "*I am interested in data science because I am a really curious person and I love to disover the connections and stories behind the Data*",
      "metadata": {}
    },
    {
      "cell_type": "markdown",
      "source": "### This code will show if the comparison is true or false ",
      "metadata": {}
    },
    {
      "cell_type": "code",
      "source": "print(12<2040)",
      "metadata": {
        "trusted": true
      },
      "execution_count": 1,
      "outputs": [
        {
          "name": "stdout",
          "text": "True\n",
          "output_type": "stream"
        }
      ]
    },
    {
      "cell_type": "markdown",
      "source": "Let's start easy...you can see under this text an Horizontal rule\n***\n* This is a bullet list\n* This is the second point of my bullet list \n* This is the third one and I think it can be enough\n\n1. Let's try with numbered list\n2. And that's it!\n\nLet's see what we can show more...`THIS?`\n\n| Hope | You | Like | It\n|------|-----|------|-------|\n|You   |Like | It,  | Right?|\n|   D   |  O  |  N   |   E",
      "metadata": {}
    },
    {
      "cell_type": "code",
      "source": "",
      "metadata": {},
      "execution_count": null,
      "outputs": []
    }
  ]
}